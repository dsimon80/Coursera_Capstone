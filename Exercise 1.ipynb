{
    "nbformat_minor": 1, 
    "cells": [
        {
            "source": "*In the code below I generate the dataframe matching neighborhoods to postal codes. First I use pandas' read_html to read in the table, then do some basic data cleaning. In this step, I (1) delete non-assigned boroughs, (2) replace names of missing neighborhoods with the name of the borough, and (3) finally roll up the observations so there's only one row for every postal code.*", 
            "cell_type": "markdown", 
            "metadata": {}
        }, 
        {
            "execution_count": 3, 
            "cell_type": "code", 
            "metadata": {}, 
            "outputs": [
                {
                    "output_type": "stream", 
                    "name": "stderr", 
                    "text": "/opt/conda/envs/DSX-Python35/lib/python3.5/site-packages/ipykernel/__main__.py:18: SettingWithCopyWarning: \nA value is trying to be set on a copy of a slice from a DataFrame.\nTry using .loc[row_indexer,col_indexer] = value instead\n\nSee the caveats in the documentation: http://pandas.pydata.org/pandas-docs/stable/indexing.html#indexing-view-versus-copy\n"
                }, 
                {
                    "execution_count": 3, 
                    "metadata": {}, 
                    "data": {
                        "text/plain": "(103, 3)"
                    }, 
                    "output_type": "execute_result"
                }
            ], 
            "source": "# Load dependencies\nfrom bs4 import BeautifulSoup\nimport requests\nimport pandas as pd\nimport numpy as np\n\npage_link = 'https://en.wikipedia.org/wiki/List_of_postal_codes_of_Canada:_M'\n\ndfs = pd.read_html(page_link, header=0)\n\n# Pick the first dataframe\ndf = dfs[0]\n\n    # 1. Delete all non-assigned boroughs\n    \ndf2 = df[df.Borough != \"Not assigned\"]\n\n    #2. For neighborhoods where Neighbourhood is not assigned, Neighbourhood = Borough\n    \ndf2['Neighbourhood'] = np.where(df2['Neighbourhood']=='Not Assigned',df2['Borough'], df2['Neighbourhood'])\n\n    # 3. Group by postcode, merge neighbourhoods separated with a comma\n    \ndf2 = df2.groupby('Postcode',as_index=False).agg({'Borough':'first','Neighbourhood':', '.join})\n\ndf2.shape"
        }, 
        {
            "execution_count": null, 
            "cell_type": "code", 
            "metadata": {}, 
            "outputs": [], 
            "source": ""
        }
    ], 
    "metadata": {
        "kernelspec": {
            "display_name": "Python 3.5", 
            "name": "python3", 
            "language": "python"
        }, 
        "language_info": {
            "mimetype": "text/x-python", 
            "nbconvert_exporter": "python", 
            "version": "3.5.5", 
            "name": "python", 
            "file_extension": ".py", 
            "pygments_lexer": "ipython3", 
            "codemirror_mode": {
                "version": 3, 
                "name": "ipython"
            }
        }
    }, 
    "nbformat": 4
}